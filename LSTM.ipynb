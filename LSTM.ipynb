{
 "cells": [
  {
   "cell_type": "code",
   "execution_count": null,
   "metadata": {},
   "outputs": [],
   "source": [
    "from sklearn.preprocessing import MinMaxScaler\n",
    "from keras.preprocessing.sequence import TimeseriesGenerator\n",
    "\n",
    "# Assuming 'data' is the original DataFrame and has been preprocessed similarly to previous steps\n",
    "data_series = data['OperatingCashFlow'].values.reshape(-1, 1)  # Reshape for compatibility with MinMaxScaler\n",
    "\n",
    "# Normalize the data\n",
    "scaler = MinMaxScaler(feature_range=(0, 1))\n",
    "scaled_data = scaler.fit_transform(data_series)\n",
    "\n",
    "# Define sequence length (number of time steps to look back for predicting the next value)\n",
    "sequence_length = 4\n",
    "\n",
    "# Prepare data generators for training and testing\n",
    "train_data_gen = TimeseriesGenerator(scaled_data[:train_size], scaled_data[:train_size],\n",
    "                                     length=sequence_length, batch_size=1)\n",
    "test_data_gen = TimeseriesGenerator(scaled_data[train_size:], scaled_data[train_size:],\n",
    "                                    length=sequence_length, batch_size=1)\n",
    "# Check the shape of generated data samples\n",
    "for i in range(len(train_data_gen)):\n",
    "    x, y = train_data_gen[i]\n",
    "    print('Input data shape:', x.shape, 'Output data shape:', y.shape)\n",
    "    if i == 0:  # Just display the first batch shapes\n",
    "        break\n"
   ]
  },
  {
   "cell_type": "code",
   "execution_count": null,
   "metadata": {},
   "outputs": [],
   "source": [
    "from keras.models import Sequential\n",
    "from keras.layers import LSTM, Dense\n",
    "\n",
    "# Define model architecture\n",
    "model = Sequential()\n",
    "model.add(LSTM(50, activation='relu', input_shape=(sequence_length, 1)))\n",
    "model.add(Dense(1))\n",
    "model.compile(optimizer='adam', loss='mean_squared_error')\n",
    "\n",
    "# Model summary\n",
    "model.summary()"
   ]
  },
  {
   "cell_type": "code",
   "execution_count": null,
   "metadata": {},
   "outputs": [],
   "source": [
    "# Train the model\n",
    "model.fit(train_data_gen, epochs=20, verbose=1)\n"
   ]
  },
  {
   "cell_type": "code",
   "execution_count": null,
   "metadata": {},
   "outputs": [],
   "source": [
    "# Predict using the test data generator\n",
    "predictions = model.predict(test_data_gen)\n",
    "\n",
    "# Invert scaling for actual comparison\n",
    "predictions = scaler.inverse_transform(predictions)\n",
    "actuals = scaler.inverse_transform(scaled_data[train_size + sequence_length:])\n",
    "\n",
    "# Calculate RMSE or other performance metrics\n",
    "from sklearn.metrics import mean_squared_error\n",
    "from math import sqrt\n",
    "\n",
    "rmse = sqrt(mean_squared_error(actuals, predictions))\n",
    "print('Test RMSE:', rmse)\n"
   ]
  },
  {
   "cell_type": "code",
   "execution_count": null,
   "metadata": {},
   "outputs": [],
   "source": [
    "import pandas as pd\n",
    "from statsmodels.tsa.statespace.sarimax import SARIMAX\n",
    "\n",
    "# Extend the dataset to include the future quarter (March 2024) for forecasting\n",
    "future_dates = pd.date_range(start=data.index[-1] + pd.DateOffset(months=3), periods=1, freq='Q')\n",
    "future_df = pd.DataFrame(index=future_dates, columns=data.columns)\n",
    "extended_data = pd.concat([data, future_df])\n",
    "\n",
    "# Forward fill the exogenous variables to cover all dates including the extended future dates\n",
    "extended_exog = extended_data[['Exog1', 'Exog2', 'Exog3']]  # Replace with actual names of exogenous variables\n",
    "extended_exog_ffill = extended_exog.ffill()\n",
    "\n",
    "# Convert all columns to numeric, assuming that they should be numeric for SARIMAX\n",
    "extended_data_numeric = extended_data.apply(pd.to_numeric, errors='coerce')\n",
    "extended_exog_numeric = extended_exog_ffill.apply(pd.to_numeric, errors='coerce')\n",
    "\n",
    "# Fit the SARIMAX model with numeric and aligned data\n",
    "model = SARIMAX(extended_data_numeric['OperatingCashFlow'], exog=extended_exog_numeric,\n",
    "                order=(1, 1, 1), seasonal_order=(0, 0, 0, 0))\n",
    "model_fit = model.fit(disp=False)\n",
    "\n",
    "# Forecast including the test period and the March 2024 quarter\n",
    "forecast = model_fit.get_forecast(steps=len(test) + 1, exog=extended_exog_numeric[-(len(test)+1):])\n",
    "forecast_mean = forecast.predicted_mean\n",
    "\n",
    "# Display the forecasted values\n",
    "forecast_mean"
   ]
  },
  {
   "cell_type": "code",
   "execution_count": null,
   "metadata": {},
   "outputs": [],
   "source": []
  },
  {
   "cell_type": "code",
   "execution_count": null,
   "metadata": {},
   "outputs": [],
   "source": []
  },
  {
   "cell_type": "code",
   "execution_count": null,
   "metadata": {},
   "outputs": [],
   "source": []
  }
 ],
 "metadata": {
  "language_info": {
   "name": "python"
  }
 },
 "nbformat": 4,
 "nbformat_minor": 2
}
