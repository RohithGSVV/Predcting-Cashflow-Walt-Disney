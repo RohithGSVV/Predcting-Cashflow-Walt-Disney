{
 "cells": [
  {
   "cell_type": "code",
   "execution_count": 1,
   "metadata": {},
   "outputs": [],
   "source": [
    "import pandas as pd"
   ]
  },
  {
   "cell_type": "code",
   "execution_count": 2,
   "metadata": {},
   "outputs": [],
   "source": [
    "df = pd.read_excel('processed.xlsx')"
   ]
  },
  {
   "cell_type": "code",
   "execution_count": 3,
   "metadata": {},
   "outputs": [
    {
     "name": "stdout",
     "output_type": "stream",
     "text": [
      "['Unnamed: 0', 'Date', 'TotalRevenue', 'OperatingRevenue', 'CostOfRevenue', 'GrossProfit', 'OperatingExpense', 'OperatingIncome', 'OtherIncomeExpense', 'SpecialIncomeCharges', 'PretaxIncome', 'TaxProvision', 'NetIncomeCommonStockholders', 'NetIncome', 'NetIncomeIncludingNoncontrollingInterests', 'NetIncomeContinuousOperations', 'DilutedNIAvailtoComStockholders', 'BasicEPS', 'DilutedEPS', 'BasicAverageShares', 'DilutedAverageShares', 'TotalExpenses', 'NetIncomeFromContinuingAndDiscontinuedOperation', 'NormalizedIncome', 'EBIT', 'EBITDA', 'ReconciledCostOfRevenue', 'ReconciledDepreciation', 'NetIncomeFromContinuingOperationNetMinorityInterest', 'TotalUnusualItemsExcludingGoodwill', 'TotalUnusualItems', 'NormalizedEBITDA', 'TaxRateForCalcs', 'TaxEffectOfUnusualItems', 'TotalAssets', 'CurrentAssets', 'CashCashEquivalentsAndShortTermInvestments', 'CashAndCashEquivalents', 'Receivables', 'Inventory', 'OtherCurrentAssets', 'TotalNonCurrentAssets', 'NetPPE', 'GrossPPE', 'AccumulatedDepreciation', 'GoodwillAndOtherIntangibleAssets', 'OtherIntangibleAssets', 'OtherNonCurrentAssets', 'TotalLiabilitiesNetMinorityInterest', 'CurrentLiabilities', 'PayablesAndAccruedExpenses', 'CurrentDebtAndCapitalLeaseObligation', 'CurrentDebt', 'TotalNonCurrentLiabilitiesNetMinorityInterest', 'LongTermDebtAndCapitalLeaseObligation', 'LongTermDebt', 'NonCurrentDeferredLiabilities', 'NonCurrentDeferredTaxesLiabilities', 'OtherNonCurrentLiabilities', 'TotalEquityGrossMinorityInterest', 'StockholdersEquity', 'RetainedEarnings', 'TotalCapitalization', 'CommonStockEquity', 'NetTangibleAssets', 'WorkingCapital', 'InvestedCapital', 'TangibleBookValue', 'TotalDebt', 'NetDebt', 'ShareIssued', 'OrdinarySharesNumber', 'OperatingCashFlow', 'CashFlowFromContinuingOperatingActivities', 'NetIncomeFromContinuingOperations', 'OperatingGainsLosses', 'DepreciationAmortizationDepletion', 'DepreciationAndAmortization', 'OtherNonCashItems', 'ChangeInWorkingCapital', 'ChangeInReceivables', 'ChangeInInventory', 'ChangeInPayablesAndAccruedExpense', 'InvestingCashFlow', 'CashFlowFromContinuingInvestingActivities', 'NetPPEPurchaseAndSale', 'PurchaseOfPPE', 'NetOtherInvestingChanges', 'FinancingCashFlow', 'CashFlowFromContinuingFinancingActivities', 'NetIssuancePaymentsOfDebt', 'EndCashPosition', 'ChangesInCash', 'BeginningCashPosition', 'CapitalExpenditure', 'FreeCashFlow']\n"
     ]
    }
   ],
   "source": [
    "print(df.columns.tolist())"
   ]
  },
  {
   "cell_type": "code",
   "execution_count": null,
   "metadata": {},
   "outputs": [],
   "source": []
  }
 ],
 "metadata": {
  "kernelspec": {
   "display_name": "Python 3",
   "language": "python",
   "name": "python3"
  },
  "language_info": {
   "codemirror_mode": {
    "name": "ipython",
    "version": 3
   },
   "file_extension": ".py",
   "mimetype": "text/x-python",
   "name": "python",
   "nbconvert_exporter": "python",
   "pygments_lexer": "ipython3",
   "version": "3.12.2"
  }
 },
 "nbformat": 4,
 "nbformat_minor": 2
}
