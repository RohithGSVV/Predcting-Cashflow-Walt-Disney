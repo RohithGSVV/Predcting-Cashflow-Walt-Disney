{
 "cells": [
  {
   "cell_type": "code",
   "execution_count": 1,
   "metadata": {},
   "outputs": [],
   "source": [
    "import pandas as pd"
   ]
  },
  {
   "cell_type": "code",
   "execution_count": 2,
   "metadata": {},
   "outputs": [],
   "source": [
    "dff = pd.read_excel('financials.xlsx')\n",
    "dfb = pd.read_excel('balance-sheet.xlsx')\n",
    "dfc = pd.read_excel('cash-flow.xlsx')"
   ]
  },
  {
   "cell_type": "code",
   "execution_count": 8,
   "metadata": {},
   "outputs": [
    {
     "name": "stdout",
     "output_type": "stream",
     "text": [
      "['Unnamed: 0', 'Date', 'TotalAssets', 'CurrentAssets', 'CashCashEquivalentsAndShortTermInvestments', 'CashAndCashEquivalents', 'Receivables', 'AccountsReceivable', 'OtherReceivables', 'ReceivablesAdjustmentsAllowances', 'Inventory', 'PrepaidAssets', 'RestrictedCash', 'CurrentDeferredAssets', 'CurrentDeferredTaxesAssets', 'AssetsHeldForSaleCurrent', 'OtherCurrentAssets', 'TotalNonCurrentAssets', 'NetPPE', 'GrossPPE', 'Properties', 'LandAndImprovements', 'BuildingsAndImprovements', 'MachineryFurnitureEquipment', 'OtherProperties', 'ConstructionInProgress', 'Leases', 'AccumulatedDepreciation', 'GoodwillAndOtherIntangibleAssets', 'Goodwill', 'OtherIntangibleAssets', 'InvestmentsAndAdvances', 'LongTermEquityInvestment', 'InvestmentinFinancialAssets', 'AvailableForSaleSecurities', 'NonCurrentAccountsReceivable', 'NonCurrentDeferredAssets', 'NonCurrentPrepaidAssets', 'OtherNonCurrentAssets', 'TotalLiabilitiesNetMinorityInterest', 'CurrentLiabilities', 'PayablesAndAccruedExpenses', 'Payables', 'AccountsPayable', 'TotalTaxPayable', 'IncomeTaxPayable', 'OtherPayable', 'CurrentAccruedExpenses', 'PensionandOtherPostRetirementBenefitPlansCurrent', 'CurrentDebtAndCapitalLeaseObligation', 'CurrentDebt', 'CurrentDeferredLiabilities', 'CurrentDeferredRevenue', 'OtherCurrentLiabilities', 'TotalNonCurrentLiabilitiesNetMinorityInterest', 'LongTermDebtAndCapitalLeaseObligation', 'LongTermDebt', 'LongTermCapitalLeaseObligation', 'NonCurrentDeferredLiabilities', 'NonCurrentDeferredTaxesLiabilities', 'NonCurrentDeferredRevenue', 'EmployeeBenefits', 'NonCurrentPensionAndOtherPostretirementBenefitPlans', 'PreferredSecuritiesOutsideStockEquity', 'LiabilitiesHeldforSaleNonCurrent', 'OtherNonCurrentLiabilities', 'TotalEquityGrossMinorityInterest', 'StockholdersEquity', 'CapitalStock', 'PreferredStock', 'CommonStock', 'RetainedEarnings', 'TreasuryStock', 'GainsLossesNotAffectingRetainedEarnings', 'ForeignCurrencyTranslationAdjustments', 'OtherEquityAdjustments', 'OtherEquityInterest', 'MinorityInterest', 'TotalCapitalization', 'CommonStockEquity', 'CapitalLeaseObligations', 'NetTangibleAssets', 'WorkingCapital', 'InvestedCapital', 'TangibleBookValue', 'TotalDebt', 'NetDebt', 'ShareIssued', 'OrdinarySharesNumber', 'TreasurySharesNumber']\n"
     ]
    }
   ],
   "source": [
    "print(dfb.columns.tolist())"
   ]
  },
  {
   "cell_type": "code",
   "execution_count": 9,
   "metadata": {},
   "outputs": [
    {
     "name": "stdout",
     "output_type": "stream",
     "text": [
      "['Unnamed: 0', 'Date', 'TotalRevenue', 'OperatingRevenue', 'CostOfRevenue', 'GrossProfit', 'OperatingExpense', 'SellingGeneralAndAdministration', 'DepreciationAmortizationDepletionIncomeStatement', 'DepreciationAndAmortizationInIncomeStatement', 'Amortization', 'AmortizationOfIntangiblesIncomeStatement', 'OperatingIncome', 'NetNonOperatingInterestIncomeExpense', 'InterestIncomeNonOperating', 'InterestExpenseNonOperating', 'TotalOtherFinanceCost', 'OtherIncomeExpense', 'GainOnSaleOfSecurity', 'EarningsFromEquityInterest', 'SpecialIncomeCharges', 'RestructuringAndMergernAcquisition', 'ImpairmentOfCapitalAssets', 'OtherSpecialCharges', 'GainOnSaleOfBusiness', 'GainOnSaleOfPPE', 'OtherNonOperatingIncomeExpenses', 'PretaxIncome', 'TaxProvision', 'NetIncomeCommonStockholders', 'NetIncome', 'NetIncomeIncludingNoncontrollingInterests', 'NetIncomeContinuousOperations', 'NetIncomeDiscontinuousOperations', 'NetIncomeExtraordinary', 'MinorityInterests', 'DilutedNIAvailtoComStockholders', 'BasicEPS', 'DilutedEPS', 'BasicAverageShares', 'DilutedAverageShares', 'TotalExpenses', 'NetIncomeFromContinuingAndDiscontinuedOperation', 'NormalizedIncome', 'InterestIncome', 'InterestExpense', 'NetInterestIncome', 'EBIT', 'EBITDA', 'ReconciledCostOfRevenue', 'ReconciledDepreciation', 'NetIncomeFromContinuingOperationNetMinorityInterest', 'TotalUnusualItemsExcludingGoodwill', 'TotalUnusualItems', 'NormalizedEBITDA', 'TaxRateForCalcs', 'TaxEffectOfUnusualItems']\n"
     ]
    }
   ],
   "source": [
    "print(dff.columns.tolist())"
   ]
  },
  {
   "cell_type": "code",
   "execution_count": 11,
   "metadata": {},
   "outputs": [
    {
     "name": "stdout",
     "output_type": "stream",
     "text": [
      "['Unnamed: 0', 'Date', 'OperatingCashFlow', 'CashFlowFromContinuingOperatingActivities', 'NetIncomeFromContinuingOperations', 'OperatingGainsLosses', 'GainLossOnSaleOfBusiness', 'GainLossOnInvestmentSecurities', 'EarningsLossesFromEquityInvestments', 'PensionAndEmployeeBenefitExpense', 'DepreciationAmortizationDepletion', 'DepreciationAndAmortization', 'Depreciation', 'AmortizationCashFlow', 'AmortizationOfIntangibles', 'DeferredTax', 'DeferredIncomeTax', 'AssetImpairmentCharge', 'StockBasedCompensation', 'OtherNonCashItems', 'ChangeInWorkingCapital', 'ChangeInReceivables', 'ChangeInInventory', 'ChangeInPayablesAndAccruedExpense', 'ChangeInPayable', 'ChangeInTaxPayable', 'ChangeInIncomeTaxPayable', 'ChangeInAccountPayable', 'ChangeInOtherCurrentAssets', 'ChangeInOtherCurrentLiabilities', 'ChangeInOtherWorkingCapital', 'DividendReceivedCFO', 'CashFromDiscontinuedOperatingActivities', 'InvestingCashFlow', 'CashFlowFromContinuingInvestingActivities', 'NetPPEPurchaseAndSale', 'PurchaseOfPPE', 'SaleOfPPE', 'NetBusinessPurchaseAndSale', 'PurchaseOfBusiness', 'SaleOfBusiness', 'NetInvestmentPurchaseAndSale', 'PurchaseOfInvestment', 'SaleOfInvestment', 'NetOtherInvestingChanges', 'CashFromDiscontinuedInvestingActivities', 'FinancingCashFlow', 'CashFlowFromContinuingFinancingActivities', 'NetIssuancePaymentsOfDebt', 'NetLongTermDebtIssuance', 'LongTermDebtIssuance', 'LongTermDebtPayments', 'NetShortTermDebtIssuance', 'ShortTermDebtIssuance', 'ShortTermDebtPayments', 'NetCommonStockIssuance', 'CommonStockIssuance', 'CommonStockPayments', 'CashDividendsPaid', 'CommonStockDividendPaid', 'ProceedsFromStockOptionExercised', 'NetOtherFinancingCharges', 'CashFromDiscontinuedFinancingActivities', 'CashFlowFromDiscontinuedOperation', 'EndCashPosition', 'ChangesInCash', 'EffectOfExchangeRateChanges', 'BeginningCashPosition', 'OtherCashAdjustmentOutsideChangeinCash', 'CapitalExpenditure', 'IssuanceOfCapitalStock', 'IssuanceOfDebt', 'RepaymentOfDebt', 'RepurchaseOfCapitalStock', 'FreeCashFlow']\n"
     ]
    }
   ],
   "source": [
    "print(dfc.columns.tolist())"
   ]
  },
  {
   "cell_type": "code",
   "execution_count": 12,
   "metadata": {},
   "outputs": [],
   "source": [
    "combined_df = pd.merge(dff, dfb, on='Date', how='outer', suffixes=('_financials', '_balance'))\n",
    "\n",
    "df = pd.merge(combined_df, dfc, on='Date', how='outer', suffixes=('', '_cashflow'))"
   ]
  },
  {
   "cell_type": "code",
   "execution_count": 14,
   "metadata": {},
   "outputs": [
    {
     "data": {
      "text/plain": [
       "(154, 220)"
      ]
     },
     "execution_count": 14,
     "metadata": {},
     "output_type": "execute_result"
    }
   ],
   "source": [
    "df.shape"
   ]
  },
  {
   "cell_type": "code",
   "execution_count": 15,
   "metadata": {},
   "outputs": [
    {
     "name": "stdout",
     "output_type": "stream",
     "text": [
      "['Unnamed: 0_financials', 'Date', 'TotalRevenue', 'OperatingRevenue', 'CostOfRevenue', 'GrossProfit', 'OperatingExpense', 'SellingGeneralAndAdministration', 'DepreciationAmortizationDepletionIncomeStatement', 'DepreciationAndAmortizationInIncomeStatement', 'Amortization', 'AmortizationOfIntangiblesIncomeStatement', 'OperatingIncome', 'NetNonOperatingInterestIncomeExpense', 'InterestIncomeNonOperating', 'InterestExpenseNonOperating', 'TotalOtherFinanceCost', 'OtherIncomeExpense', 'GainOnSaleOfSecurity', 'EarningsFromEquityInterest', 'SpecialIncomeCharges', 'RestructuringAndMergernAcquisition', 'ImpairmentOfCapitalAssets', 'OtherSpecialCharges', 'GainOnSaleOfBusiness', 'GainOnSaleOfPPE', 'OtherNonOperatingIncomeExpenses', 'PretaxIncome', 'TaxProvision', 'NetIncomeCommonStockholders', 'NetIncome', 'NetIncomeIncludingNoncontrollingInterests', 'NetIncomeContinuousOperations', 'NetIncomeDiscontinuousOperations', 'NetIncomeExtraordinary', 'MinorityInterests', 'DilutedNIAvailtoComStockholders', 'BasicEPS', 'DilutedEPS', 'BasicAverageShares', 'DilutedAverageShares', 'TotalExpenses', 'NetIncomeFromContinuingAndDiscontinuedOperation', 'NormalizedIncome', 'InterestIncome', 'InterestExpense', 'NetInterestIncome', 'EBIT', 'EBITDA', 'ReconciledCostOfRevenue', 'ReconciledDepreciation', 'NetIncomeFromContinuingOperationNetMinorityInterest', 'TotalUnusualItemsExcludingGoodwill', 'TotalUnusualItems', 'NormalizedEBITDA', 'TaxRateForCalcs', 'TaxEffectOfUnusualItems', 'Unnamed: 0_balance', 'TotalAssets', 'CurrentAssets', 'CashCashEquivalentsAndShortTermInvestments', 'CashAndCashEquivalents', 'Receivables', 'AccountsReceivable', 'OtherReceivables', 'ReceivablesAdjustmentsAllowances', 'Inventory', 'PrepaidAssets', 'RestrictedCash', 'CurrentDeferredAssets', 'CurrentDeferredTaxesAssets', 'AssetsHeldForSaleCurrent', 'OtherCurrentAssets', 'TotalNonCurrentAssets', 'NetPPE', 'GrossPPE', 'Properties', 'LandAndImprovements', 'BuildingsAndImprovements', 'MachineryFurnitureEquipment', 'OtherProperties', 'ConstructionInProgress', 'Leases', 'AccumulatedDepreciation', 'GoodwillAndOtherIntangibleAssets', 'Goodwill', 'OtherIntangibleAssets', 'InvestmentsAndAdvances', 'LongTermEquityInvestment', 'InvestmentinFinancialAssets', 'AvailableForSaleSecurities', 'NonCurrentAccountsReceivable', 'NonCurrentDeferredAssets', 'NonCurrentPrepaidAssets', 'OtherNonCurrentAssets', 'TotalLiabilitiesNetMinorityInterest', 'CurrentLiabilities', 'PayablesAndAccruedExpenses', 'Payables', 'AccountsPayable', 'TotalTaxPayable', 'IncomeTaxPayable', 'OtherPayable', 'CurrentAccruedExpenses', 'PensionandOtherPostRetirementBenefitPlansCurrent', 'CurrentDebtAndCapitalLeaseObligation', 'CurrentDebt', 'CurrentDeferredLiabilities', 'CurrentDeferredRevenue', 'OtherCurrentLiabilities', 'TotalNonCurrentLiabilitiesNetMinorityInterest', 'LongTermDebtAndCapitalLeaseObligation', 'LongTermDebt', 'LongTermCapitalLeaseObligation', 'NonCurrentDeferredLiabilities', 'NonCurrentDeferredTaxesLiabilities', 'NonCurrentDeferredRevenue', 'EmployeeBenefits', 'NonCurrentPensionAndOtherPostretirementBenefitPlans', 'PreferredSecuritiesOutsideStockEquity', 'LiabilitiesHeldforSaleNonCurrent', 'OtherNonCurrentLiabilities', 'TotalEquityGrossMinorityInterest', 'StockholdersEquity', 'CapitalStock', 'PreferredStock', 'CommonStock', 'RetainedEarnings', 'TreasuryStock', 'GainsLossesNotAffectingRetainedEarnings', 'ForeignCurrencyTranslationAdjustments', 'OtherEquityAdjustments', 'OtherEquityInterest', 'MinorityInterest', 'TotalCapitalization', 'CommonStockEquity', 'CapitalLeaseObligations', 'NetTangibleAssets', 'WorkingCapital', 'InvestedCapital', 'TangibleBookValue', 'TotalDebt', 'NetDebt', 'ShareIssued', 'OrdinarySharesNumber', 'TreasurySharesNumber', 'Unnamed: 0', 'OperatingCashFlow', 'CashFlowFromContinuingOperatingActivities', 'NetIncomeFromContinuingOperations', 'OperatingGainsLosses', 'GainLossOnSaleOfBusiness', 'GainLossOnInvestmentSecurities', 'EarningsLossesFromEquityInvestments', 'PensionAndEmployeeBenefitExpense', 'DepreciationAmortizationDepletion', 'DepreciationAndAmortization', 'Depreciation', 'AmortizationCashFlow', 'AmortizationOfIntangibles', 'DeferredTax', 'DeferredIncomeTax', 'AssetImpairmentCharge', 'StockBasedCompensation', 'OtherNonCashItems', 'ChangeInWorkingCapital', 'ChangeInReceivables', 'ChangeInInventory', 'ChangeInPayablesAndAccruedExpense', 'ChangeInPayable', 'ChangeInTaxPayable', 'ChangeInIncomeTaxPayable', 'ChangeInAccountPayable', 'ChangeInOtherCurrentAssets', 'ChangeInOtherCurrentLiabilities', 'ChangeInOtherWorkingCapital', 'DividendReceivedCFO', 'CashFromDiscontinuedOperatingActivities', 'InvestingCashFlow', 'CashFlowFromContinuingInvestingActivities', 'NetPPEPurchaseAndSale', 'PurchaseOfPPE', 'SaleOfPPE', 'NetBusinessPurchaseAndSale', 'PurchaseOfBusiness', 'SaleOfBusiness', 'NetInvestmentPurchaseAndSale', 'PurchaseOfInvestment', 'SaleOfInvestment', 'NetOtherInvestingChanges', 'CashFromDiscontinuedInvestingActivities', 'FinancingCashFlow', 'CashFlowFromContinuingFinancingActivities', 'NetIssuancePaymentsOfDebt', 'NetLongTermDebtIssuance', 'LongTermDebtIssuance', 'LongTermDebtPayments', 'NetShortTermDebtIssuance', 'ShortTermDebtIssuance', 'ShortTermDebtPayments', 'NetCommonStockIssuance', 'CommonStockIssuance', 'CommonStockPayments', 'CashDividendsPaid', 'CommonStockDividendPaid', 'ProceedsFromStockOptionExercised', 'NetOtherFinancingCharges', 'CashFromDiscontinuedFinancingActivities', 'CashFlowFromDiscontinuedOperation', 'EndCashPosition', 'ChangesInCash', 'EffectOfExchangeRateChanges', 'BeginningCashPosition', 'OtherCashAdjustmentOutsideChangeinCash', 'CapitalExpenditure', 'IssuanceOfCapitalStock', 'IssuanceOfDebt', 'RepaymentOfDebt', 'RepurchaseOfCapitalStock', 'FreeCashFlow']\n"
     ]
    }
   ],
   "source": [
    "print(df.columns.tolist())"
   ]
  },
  {
   "cell_type": "code",
   "execution_count": 16,
   "metadata": {},
   "outputs": [],
   "source": [
    "df['Date'] = pd.to_datetime(df['Date'])"
   ]
  },
  {
   "cell_type": "code",
   "execution_count": 17,
   "metadata": {},
   "outputs": [],
   "source": [
    "df = df.sort_values('Date')"
   ]
  },
  {
   "cell_type": "code",
   "execution_count": 18,
   "metadata": {},
   "outputs": [],
   "source": [
    "df.to_excel('Final_data.xlsx')"
   ]
  },
  {
   "cell_type": "code",
   "execution_count": 20,
   "metadata": {},
   "outputs": [],
   "source": [
    "df = pd.read_excel('EDA.xlsx')"
   ]
  },
  {
   "cell_type": "code",
   "execution_count": 22,
   "metadata": {},
   "outputs": [],
   "source": [
    "missing_value_threshold = 0.35\n",
    "missing_percentages = df.isnull().mean()\n",
    "\n",
    "columns_to_drop = missing_percentages[missing_percentages > missing_value_threshold].index.tolist()\n",
    "\n",
    "df.drop(columns=columns_to_drop, inplace=True)"
   ]
  },
  {
   "cell_type": "code",
   "execution_count": 23,
   "metadata": {},
   "outputs": [
    {
     "name": "stdout",
     "output_type": "stream",
     "text": [
      "['Unnamed: 0.1', 'Unnamed: 0_financials', 'Date', 'TotalRevenue', 'OperatingRevenue', 'CostOfRevenue', 'GrossProfit', 'OperatingExpense', 'OperatingIncome', 'OtherIncomeExpense', 'SpecialIncomeCharges', 'PretaxIncome', 'TaxProvision', 'NetIncomeCommonStockholders', 'NetIncome', 'NetIncomeIncludingNoncontrollingInterests', 'NetIncomeContinuousOperations', 'DilutedNIAvailtoComStockholders', 'BasicEPS', 'DilutedEPS', 'BasicAverageShares', 'DilutedAverageShares', 'TotalExpenses', 'NetIncomeFromContinuingAndDiscontinuedOperation', 'NormalizedIncome', 'EBIT', 'EBITDA', 'ReconciledCostOfRevenue', 'ReconciledDepreciation', 'NetIncomeFromContinuingOperationNetMinorityInterest', 'TotalUnusualItemsExcludingGoodwill', 'TotalUnusualItems', 'NormalizedEBITDA', 'TaxRateForCalcs', 'TaxEffectOfUnusualItems', 'Unnamed: 0_balance', 'TotalAssets', 'CurrentAssets', 'CashCashEquivalentsAndShortTermInvestments', 'CashAndCashEquivalents', 'Receivables', 'Inventory', 'OtherCurrentAssets', 'TotalNonCurrentAssets', 'NetPPE', 'GrossPPE', 'AccumulatedDepreciation', 'GoodwillAndOtherIntangibleAssets', 'OtherIntangibleAssets', 'OtherNonCurrentAssets', 'TotalLiabilitiesNetMinorityInterest', 'CurrentLiabilities', 'PayablesAndAccruedExpenses', 'CurrentDebtAndCapitalLeaseObligation', 'CurrentDebt', 'TotalNonCurrentLiabilitiesNetMinorityInterest', 'LongTermDebtAndCapitalLeaseObligation', 'LongTermDebt', 'NonCurrentDeferredLiabilities', 'NonCurrentDeferredTaxesLiabilities', 'OtherNonCurrentLiabilities', 'TotalEquityGrossMinorityInterest', 'StockholdersEquity', 'RetainedEarnings', 'TotalCapitalization', 'CommonStockEquity', 'NetTangibleAssets', 'WorkingCapital', 'InvestedCapital', 'TangibleBookValue', 'TotalDebt', 'NetDebt', 'ShareIssued', 'OrdinarySharesNumber', 'Unnamed: 0', 'OperatingCashFlow', 'CashFlowFromContinuingOperatingActivities', 'NetIncomeFromContinuingOperations', 'OperatingGainsLosses', 'DepreciationAmortizationDepletion', 'DepreciationAndAmortization', 'OtherNonCashItems', 'ChangeInWorkingCapital', 'ChangeInReceivables', 'ChangeInInventory', 'ChangeInPayablesAndAccruedExpense', 'InvestingCashFlow', 'CashFlowFromContinuingInvestingActivities', 'NetPPEPurchaseAndSale', 'PurchaseOfPPE', 'NetOtherInvestingChanges', 'FinancingCashFlow', 'CashFlowFromContinuingFinancingActivities', 'NetIssuancePaymentsOfDebt', 'EndCashPosition', 'ChangesInCash', 'BeginningCashPosition', 'CapitalExpenditure', 'FreeCashFlow']\n"
     ]
    }
   ],
   "source": [
    "print(df.columns.tolist())"
   ]
  },
  {
   "cell_type": "code",
   "execution_count": 31,
   "metadata": {},
   "outputs": [],
   "source": [
    "columns_to_remove = [\n",
    "    'Unnamed: 0', 'Unnamed: 0_financials', 'Unnamed: 0_balance','Unnamed: 0.1']\n",
    "\n",
    "df = df.drop(columns=columns_to_remove, errors='ignore')"
   ]
  },
  {
   "cell_type": "code",
   "execution_count": 32,
   "metadata": {},
   "outputs": [
    {
     "data": {
      "text/html": [
       "<div>\n",
       "<style scoped>\n",
       "    .dataframe tbody tr th:only-of-type {\n",
       "        vertical-align: middle;\n",
       "    }\n",
       "\n",
       "    .dataframe tbody tr th {\n",
       "        vertical-align: top;\n",
       "    }\n",
       "\n",
       "    .dataframe thead th {\n",
       "        text-align: right;\n",
       "    }\n",
       "</style>\n",
       "<table border=\"1\" class=\"dataframe\">\n",
       "  <thead>\n",
       "    <tr style=\"text-align: right;\">\n",
       "      <th></th>\n",
       "      <th>Date</th>\n",
       "      <th>TotalRevenue</th>\n",
       "      <th>OperatingRevenue</th>\n",
       "      <th>CostOfRevenue</th>\n",
       "      <th>GrossProfit</th>\n",
       "      <th>OperatingExpense</th>\n",
       "      <th>OperatingIncome</th>\n",
       "      <th>OtherIncomeExpense</th>\n",
       "      <th>SpecialIncomeCharges</th>\n",
       "      <th>PretaxIncome</th>\n",
       "      <th>...</th>\n",
       "      <th>PurchaseOfPPE</th>\n",
       "      <th>NetOtherInvestingChanges</th>\n",
       "      <th>FinancingCashFlow</th>\n",
       "      <th>CashFlowFromContinuingFinancingActivities</th>\n",
       "      <th>NetIssuancePaymentsOfDebt</th>\n",
       "      <th>EndCashPosition</th>\n",
       "      <th>ChangesInCash</th>\n",
       "      <th>BeginningCashPosition</th>\n",
       "      <th>CapitalExpenditure</th>\n",
       "      <th>FreeCashFlow</th>\n",
       "    </tr>\n",
       "  </thead>\n",
       "  <tbody>\n",
       "    <tr>\n",
       "      <th>0</th>\n",
       "      <td>1985-09-30</td>\n",
       "      <td>590500000</td>\n",
       "      <td>590500000</td>\n",
       "      <td>NaN</td>\n",
       "      <td>NaN</td>\n",
       "      <td>NaN</td>\n",
       "      <td>-1063400000</td>\n",
       "      <td>NaN</td>\n",
       "      <td>NaN</td>\n",
       "      <td>NaN</td>\n",
       "      <td>...</td>\n",
       "      <td>NaN</td>\n",
       "      <td>NaN</td>\n",
       "      <td>NaN</td>\n",
       "      <td>NaN</td>\n",
       "      <td>NaN</td>\n",
       "      <td>NaN</td>\n",
       "      <td>NaN</td>\n",
       "      <td>NaN</td>\n",
       "      <td>NaN</td>\n",
       "      <td>NaN</td>\n",
       "    </tr>\n",
       "    <tr>\n",
       "      <th>1</th>\n",
       "      <td>1985-12-31</td>\n",
       "      <td>504200000</td>\n",
       "      <td>504200000</td>\n",
       "      <td>NaN</td>\n",
       "      <td>NaN</td>\n",
       "      <td>NaN</td>\n",
       "      <td>504200000</td>\n",
       "      <td>NaN</td>\n",
       "      <td>NaN</td>\n",
       "      <td>NaN</td>\n",
       "      <td>...</td>\n",
       "      <td>NaN</td>\n",
       "      <td>NaN</td>\n",
       "      <td>NaN</td>\n",
       "      <td>NaN</td>\n",
       "      <td>NaN</td>\n",
       "      <td>NaN</td>\n",
       "      <td>NaN</td>\n",
       "      <td>NaN</td>\n",
       "      <td>NaN</td>\n",
       "      <td>NaN</td>\n",
       "    </tr>\n",
       "    <tr>\n",
       "      <th>2</th>\n",
       "      <td>1986-03-31</td>\n",
       "      <td>592400000</td>\n",
       "      <td>592400000</td>\n",
       "      <td>NaN</td>\n",
       "      <td>NaN</td>\n",
       "      <td>NaN</td>\n",
       "      <td>592400000</td>\n",
       "      <td>NaN</td>\n",
       "      <td>NaN</td>\n",
       "      <td>NaN</td>\n",
       "      <td>...</td>\n",
       "      <td>NaN</td>\n",
       "      <td>NaN</td>\n",
       "      <td>NaN</td>\n",
       "      <td>NaN</td>\n",
       "      <td>NaN</td>\n",
       "      <td>NaN</td>\n",
       "      <td>NaN</td>\n",
       "      <td>NaN</td>\n",
       "      <td>NaN</td>\n",
       "      <td>NaN</td>\n",
       "    </tr>\n",
       "    <tr>\n",
       "      <th>3</th>\n",
       "      <td>1986-06-30</td>\n",
       "      <td>647900000</td>\n",
       "      <td>647900000</td>\n",
       "      <td>NaN</td>\n",
       "      <td>NaN</td>\n",
       "      <td>NaN</td>\n",
       "      <td>647900000</td>\n",
       "      <td>NaN</td>\n",
       "      <td>NaN</td>\n",
       "      <td>NaN</td>\n",
       "      <td>...</td>\n",
       "      <td>NaN</td>\n",
       "      <td>NaN</td>\n",
       "      <td>NaN</td>\n",
       "      <td>NaN</td>\n",
       "      <td>NaN</td>\n",
       "      <td>NaN</td>\n",
       "      <td>NaN</td>\n",
       "      <td>NaN</td>\n",
       "      <td>NaN</td>\n",
       "      <td>NaN</td>\n",
       "    </tr>\n",
       "    <tr>\n",
       "      <th>4</th>\n",
       "      <td>1986-09-30</td>\n",
       "      <td>726400000</td>\n",
       "      <td>726400000</td>\n",
       "      <td>NaN</td>\n",
       "      <td>NaN</td>\n",
       "      <td>NaN</td>\n",
       "      <td>-1241000000</td>\n",
       "      <td>NaN</td>\n",
       "      <td>NaN</td>\n",
       "      <td>NaN</td>\n",
       "      <td>...</td>\n",
       "      <td>NaN</td>\n",
       "      <td>NaN</td>\n",
       "      <td>NaN</td>\n",
       "      <td>NaN</td>\n",
       "      <td>NaN</td>\n",
       "      <td>NaN</td>\n",
       "      <td>NaN</td>\n",
       "      <td>NaN</td>\n",
       "      <td>NaN</td>\n",
       "      <td>NaN</td>\n",
       "    </tr>\n",
       "    <tr>\n",
       "      <th>...</th>\n",
       "      <td>...</td>\n",
       "      <td>...</td>\n",
       "      <td>...</td>\n",
       "      <td>...</td>\n",
       "      <td>...</td>\n",
       "      <td>...</td>\n",
       "      <td>...</td>\n",
       "      <td>...</td>\n",
       "      <td>...</td>\n",
       "      <td>...</td>\n",
       "      <td>...</td>\n",
       "      <td>...</td>\n",
       "      <td>...</td>\n",
       "      <td>...</td>\n",
       "      <td>...</td>\n",
       "      <td>...</td>\n",
       "      <td>...</td>\n",
       "      <td>...</td>\n",
       "      <td>...</td>\n",
       "      <td>...</td>\n",
       "      <td>...</td>\n",
       "    </tr>\n",
       "    <tr>\n",
       "      <th>149</th>\n",
       "      <td>2022-12-31</td>\n",
       "      <td>23512000000</td>\n",
       "      <td>23512000000</td>\n",
       "      <td>1.638600e+10</td>\n",
       "      <td>7.126000e+09</td>\n",
       "      <td>5.133000e+09</td>\n",
       "      <td>1993000000</td>\n",
       "      <td>8.000000e+07</td>\n",
       "      <td>-6.900000e+07</td>\n",
       "      <td>1.773000e+09</td>\n",
       "      <td>...</td>\n",
       "      <td>-1.181000e+09</td>\n",
       "      <td>-111000000.0</td>\n",
       "      <td>-1.043000e+09</td>\n",
       "      <td>-1.043000e+09</td>\n",
       "      <td>-134000000.0</td>\n",
       "      <td>8.516000e+09</td>\n",
       "      <td>-3.309000e+09</td>\n",
       "      <td>1.166100e+10</td>\n",
       "      <td>-1.181000e+09</td>\n",
       "      <td>-2.155000e+09</td>\n",
       "    </tr>\n",
       "    <tr>\n",
       "      <th>150</th>\n",
       "      <td>2023-03-31</td>\n",
       "      <td>21815000000</td>\n",
       "      <td>21815000000</td>\n",
       "      <td>1.461600e+10</td>\n",
       "      <td>7.199000e+09</td>\n",
       "      <td>4.924000e+09</td>\n",
       "      <td>2275000000</td>\n",
       "      <td>1.700000e+08</td>\n",
       "      <td>-1.520000e+08</td>\n",
       "      <td>2.123000e+09</td>\n",
       "      <td>...</td>\n",
       "      <td>-1.249000e+09</td>\n",
       "      <td>0.0</td>\n",
       "      <td>-8.300000e+07</td>\n",
       "      <td>-8.300000e+07</td>\n",
       "      <td>-82000000.0</td>\n",
       "      <td>1.045300e+10</td>\n",
       "      <td>1.904000e+09</td>\n",
       "      <td>8.516000e+09</td>\n",
       "      <td>-1.249000e+09</td>\n",
       "      <td>1.987000e+09</td>\n",
       "    </tr>\n",
       "    <tr>\n",
       "      <th>151</th>\n",
       "      <td>2023-06-30</td>\n",
       "      <td>22330000000</td>\n",
       "      <td>22330000000</td>\n",
       "      <td>1.447100e+10</td>\n",
       "      <td>7.859000e+09</td>\n",
       "      <td>5.218000e+09</td>\n",
       "      <td>2641000000</td>\n",
       "      <td>-2.383000e+09</td>\n",
       "      <td>-2.650000e+09</td>\n",
       "      <td>-1.340000e+08</td>\n",
       "      <td>...</td>\n",
       "      <td>-1.165000e+09</td>\n",
       "      <td>-11000000.0</td>\n",
       "      <td>-1.001000e+09</td>\n",
       "      <td>-1.001000e+09</td>\n",
       "      <td>-993000000.0</td>\n",
       "      <td>1.151300e+10</td>\n",
       "      <td>1.083000e+09</td>\n",
       "      <td>1.045300e+10</td>\n",
       "      <td>-1.165000e+09</td>\n",
       "      <td>1.637000e+09</td>\n",
       "    </tr>\n",
       "    <tr>\n",
       "      <th>152</th>\n",
       "      <td>2023-09-30</td>\n",
       "      <td>21241000000</td>\n",
       "      <td>21241000000</td>\n",
       "      <td>1.372800e+10</td>\n",
       "      <td>7.513000e+09</td>\n",
       "      <td>5.430000e+09</td>\n",
       "      <td>2083000000</td>\n",
       "      <td>-1.051000e+09</td>\n",
       "      <td>-1.021000e+09</td>\n",
       "      <td>1.007000e+09</td>\n",
       "      <td>...</td>\n",
       "      <td>-1.374000e+09</td>\n",
       "      <td>-8000000.0</td>\n",
       "      <td>-5.970000e+08</td>\n",
       "      <td>-5.970000e+08</td>\n",
       "      <td>-574000000.0</td>\n",
       "      <td>1.423500e+10</td>\n",
       "      <td>2.823000e+09</td>\n",
       "      <td>1.151300e+10</td>\n",
       "      <td>-1.374000e+09</td>\n",
       "      <td>3.428000e+09</td>\n",
       "    </tr>\n",
       "    <tr>\n",
       "      <th>153</th>\n",
       "      <td>2023-12-31</td>\n",
       "      <td>23549000000</td>\n",
       "      <td>23549000000</td>\n",
       "      <td>1.558700e+10</td>\n",
       "      <td>7.962000e+09</td>\n",
       "      <td>5.026000e+09</td>\n",
       "      <td>2936000000</td>\n",
       "      <td>1.810000e+08</td>\n",
       "      <td>0.000000e+00</td>\n",
       "      <td>2.871000e+09</td>\n",
       "      <td>...</td>\n",
       "      <td>-1.299000e+09</td>\n",
       "      <td>53000000.0</td>\n",
       "      <td>-8.006000e+09</td>\n",
       "      <td>-8.006000e+09</td>\n",
       "      <td>737000000.0</td>\n",
       "      <td>7.247000e+09</td>\n",
       "      <td>-7.067000e+09</td>\n",
       "      <td>1.423500e+10</td>\n",
       "      <td>-1.299000e+09</td>\n",
       "      <td>8.860000e+08</td>\n",
       "    </tr>\n",
       "  </tbody>\n",
       "</table>\n",
       "<p>154 rows × 95 columns</p>\n",
       "</div>"
      ],
      "text/plain": [
       "          Date  TotalRevenue  OperatingRevenue  CostOfRevenue   GrossProfit  \\\n",
       "0   1985-09-30     590500000         590500000            NaN           NaN   \n",
       "1   1985-12-31     504200000         504200000            NaN           NaN   \n",
       "2   1986-03-31     592400000         592400000            NaN           NaN   \n",
       "3   1986-06-30     647900000         647900000            NaN           NaN   \n",
       "4   1986-09-30     726400000         726400000            NaN           NaN   \n",
       "..         ...           ...               ...            ...           ...   \n",
       "149 2022-12-31   23512000000       23512000000   1.638600e+10  7.126000e+09   \n",
       "150 2023-03-31   21815000000       21815000000   1.461600e+10  7.199000e+09   \n",
       "151 2023-06-30   22330000000       22330000000   1.447100e+10  7.859000e+09   \n",
       "152 2023-09-30   21241000000       21241000000   1.372800e+10  7.513000e+09   \n",
       "153 2023-12-31   23549000000       23549000000   1.558700e+10  7.962000e+09   \n",
       "\n",
       "     OperatingExpense  OperatingIncome  OtherIncomeExpense  \\\n",
       "0                 NaN      -1063400000                 NaN   \n",
       "1                 NaN        504200000                 NaN   \n",
       "2                 NaN        592400000                 NaN   \n",
       "3                 NaN        647900000                 NaN   \n",
       "4                 NaN      -1241000000                 NaN   \n",
       "..                ...              ...                 ...   \n",
       "149      5.133000e+09       1993000000        8.000000e+07   \n",
       "150      4.924000e+09       2275000000        1.700000e+08   \n",
       "151      5.218000e+09       2641000000       -2.383000e+09   \n",
       "152      5.430000e+09       2083000000       -1.051000e+09   \n",
       "153      5.026000e+09       2936000000        1.810000e+08   \n",
       "\n",
       "     SpecialIncomeCharges  PretaxIncome  ...  PurchaseOfPPE  \\\n",
       "0                     NaN           NaN  ...            NaN   \n",
       "1                     NaN           NaN  ...            NaN   \n",
       "2                     NaN           NaN  ...            NaN   \n",
       "3                     NaN           NaN  ...            NaN   \n",
       "4                     NaN           NaN  ...            NaN   \n",
       "..                    ...           ...  ...            ...   \n",
       "149         -6.900000e+07  1.773000e+09  ...  -1.181000e+09   \n",
       "150         -1.520000e+08  2.123000e+09  ...  -1.249000e+09   \n",
       "151         -2.650000e+09 -1.340000e+08  ...  -1.165000e+09   \n",
       "152         -1.021000e+09  1.007000e+09  ...  -1.374000e+09   \n",
       "153          0.000000e+00  2.871000e+09  ...  -1.299000e+09   \n",
       "\n",
       "     NetOtherInvestingChanges  FinancingCashFlow  \\\n",
       "0                         NaN                NaN   \n",
       "1                         NaN                NaN   \n",
       "2                         NaN                NaN   \n",
       "3                         NaN                NaN   \n",
       "4                         NaN                NaN   \n",
       "..                        ...                ...   \n",
       "149              -111000000.0      -1.043000e+09   \n",
       "150                       0.0      -8.300000e+07   \n",
       "151               -11000000.0      -1.001000e+09   \n",
       "152                -8000000.0      -5.970000e+08   \n",
       "153                53000000.0      -8.006000e+09   \n",
       "\n",
       "     CashFlowFromContinuingFinancingActivities  NetIssuancePaymentsOfDebt  \\\n",
       "0                                          NaN                        NaN   \n",
       "1                                          NaN                        NaN   \n",
       "2                                          NaN                        NaN   \n",
       "3                                          NaN                        NaN   \n",
       "4                                          NaN                        NaN   \n",
       "..                                         ...                        ...   \n",
       "149                              -1.043000e+09               -134000000.0   \n",
       "150                              -8.300000e+07                -82000000.0   \n",
       "151                              -1.001000e+09               -993000000.0   \n",
       "152                              -5.970000e+08               -574000000.0   \n",
       "153                              -8.006000e+09                737000000.0   \n",
       "\n",
       "     EndCashPosition  ChangesInCash  BeginningCashPosition  \\\n",
       "0                NaN            NaN                    NaN   \n",
       "1                NaN            NaN                    NaN   \n",
       "2                NaN            NaN                    NaN   \n",
       "3                NaN            NaN                    NaN   \n",
       "4                NaN            NaN                    NaN   \n",
       "..               ...            ...                    ...   \n",
       "149     8.516000e+09  -3.309000e+09           1.166100e+10   \n",
       "150     1.045300e+10   1.904000e+09           8.516000e+09   \n",
       "151     1.151300e+10   1.083000e+09           1.045300e+10   \n",
       "152     1.423500e+10   2.823000e+09           1.151300e+10   \n",
       "153     7.247000e+09  -7.067000e+09           1.423500e+10   \n",
       "\n",
       "     CapitalExpenditure  FreeCashFlow  \n",
       "0                   NaN           NaN  \n",
       "1                   NaN           NaN  \n",
       "2                   NaN           NaN  \n",
       "3                   NaN           NaN  \n",
       "4                   NaN           NaN  \n",
       "..                  ...           ...  \n",
       "149       -1.181000e+09 -2.155000e+09  \n",
       "150       -1.249000e+09  1.987000e+09  \n",
       "151       -1.165000e+09  1.637000e+09  \n",
       "152       -1.374000e+09  3.428000e+09  \n",
       "153       -1.299000e+09  8.860000e+08  \n",
       "\n",
       "[154 rows x 95 columns]"
      ]
     },
     "execution_count": 32,
     "metadata": {},
     "output_type": "execute_result"
    }
   ],
   "source": [
    "df"
   ]
  },
  {
   "cell_type": "code",
   "execution_count": 34,
   "metadata": {},
   "outputs": [],
   "source": [
    "from sklearn.impute import KNNImputer\n",
    "knn_imputer = KNNImputer(n_neighbors=10)"
   ]
  },
  {
   "cell_type": "code",
   "execution_count": 35,
   "metadata": {},
   "outputs": [],
   "source": [
    "date_column = df['Date']\n",
    "\n",
    "df_without_date = df.drop('Date', axis=1)\n",
    "imputed_data = knn_imputer.fit_transform(df_without_date)"
   ]
  },
  {
   "cell_type": "code",
   "execution_count": 36,
   "metadata": {},
   "outputs": [],
   "source": [
    "final_df = pd.DataFrame(imputed_data, columns=df_without_date.columns)\n",
    "final_df['Date'] = date_column.reset_index(drop=True)\n",
    "final_df = final_df[['Date'] + [col for col in final_df.columns if col != 'Date']]\n"
   ]
  },
  {
   "cell_type": "code",
   "execution_count": 37,
   "metadata": {},
   "outputs": [],
   "source": [
    "final_df.to_excel('processed.xlsx')"
   ]
  },
  {
   "cell_type": "code",
   "execution_count": null,
   "metadata": {},
   "outputs": [],
   "source": []
  }
 ],
 "metadata": {
  "kernelspec": {
   "display_name": "Python 3",
   "language": "python",
   "name": "python3"
  },
  "language_info": {
   "codemirror_mode": {
    "name": "ipython",
    "version": 3
   },
   "file_extension": ".py",
   "mimetype": "text/x-python",
   "name": "python",
   "nbconvert_exporter": "python",
   "pygments_lexer": "ipython3",
   "version": "3.12.2"
  }
 },
 "nbformat": 4,
 "nbformat_minor": 2
}
